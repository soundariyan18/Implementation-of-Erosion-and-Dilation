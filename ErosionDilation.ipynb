{
 "cells": [
  {
   "cell_type": "code",
   "execution_count": 1,
   "metadata": {},
   "outputs": [],
   "source": [
    "# Import the necessary packages\n",
    "import cv2\n",
    "import numpy as np\n",
    "from matplotlib import pyplot as plt"
   ]
  },
  {
   "cell_type": "code",
   "execution_count": 2,
   "metadata": {},
   "outputs": [],
   "source": [
    "# Create the text using cv2.putText\n",
    "image1 = np.zeros((100,450), dtype = 'uint8')\n",
    "image1 = cv2.cvtColor(image1, cv2.COLOR_BGR2RGB)\n",
    "font = cv2.FONT_HERSHEY_TRIPLEX = 3\n",
    "cv2.putText(image1,'soundariyan',(5,70),font,2, (0,225,0),5,cv2.LINE_AA)\n",
    "\n",
    "plt.figure()\n",
    "plt.imshow(image1)\n",
    "plt.title(\"original image\")\n",
    "plt.axis(\"off\")\n",
    "plt.show()\n",
    "\n",
    "\n",
    "\n"
   ]
  },
  {
   "cell_type": "code",
   "execution_count": 3,
   "metadata": {},
   "outputs": [],
   "source": [
    "# Create the structuring element\n",
    "\n",
    "kernel = np.ones((5,5),np.uint)\n",
    "kernel1 = cv2.getStructuringElement(cv2.MORPH_CROSS,(2,9))\n",
    "\n"
   ]
  },
  {
   "cell_type": "code",
   "execution_count": 4,
   "metadata": {},
   "outputs": [],
   "source": [
    "# Erode the image\n",
    "image_erode1 = cv2.erode(image1,kernel1)\n",
    "\n",
    "\n"
   ]
  },
  {
   "cell_type": "code",
   "execution_count": 5,
   "metadata": {},
   "outputs": [],
   "source": [
    "# Dilate the image\n",
    "image_dilation  = cv2.dilate(image1, kernel1)\n",
    "\n",
    "\n",
    "\n"
   ]
  }
 ],
 "metadata": {
  "kernelspec": {
   "display_name": "Python 3",
   "language": "python",
   "name": "python3"
  },
  "language_info": {
   "codemirror_mode": {
    "name": "ipython",
    "version": 3
   },
   "file_extension": ".py",
   "mimetype": "text/x-python",
   "name": "python",
   "nbconvert_exporter": "python",
   "pygments_lexer": "ipython3",
   "version": "3.8.5"
  }
 },
 "nbformat": 4,
 "nbformat_minor": 4
}
